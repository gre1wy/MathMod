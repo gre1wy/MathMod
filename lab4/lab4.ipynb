{
 "cells": [],
 "metadata": {
  "kernelspec": {
   "display_name": "thirdcourse2",
   "language": "python",
   "name": "python3"
  },
  "language_info": {
   "name": "python",
   "version": "3.13.0"
  }
 },
 "nbformat": 4,
 "nbformat_minor": 2
}
