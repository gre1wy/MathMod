{
 "cells": [
  {
   "cell_type": "code",
   "execution_count": 1,
   "metadata": {},
   "outputs": [],
   "source": [
    "from scipy.optimize import linprog\n"
   ]
  },
  {
   "cell_type": "code",
   "execution_count": 2,
   "metadata": {},
   "outputs": [],
   "source": [
    "# Coefficients for the objective function (maximize 2x1 + 3x2 is equivalent to minimize -2x1 - 3x2)\n",
    "c = [-2, -3]\n",
    "\n",
    "# Coefficients for the inequality constraints (Ax <= b)\n",
    "A = [\n",
    "    [-3, 2],   # -3x1 + 2x2 <= 6\n",
    "    [1, -4],   # x1 - 4x2 <= 2\n",
    "    [1, -1],   # x1 - x2 <= 5\n",
    "]\n",
    "\n",
    "b = [6, 2, 5]\n",
    "\n",
    "# (x1 >= 0, x2 >= 0)\n",
    "x1_bounds = (0, None)\n",
    "x2_bounds = (0, None)\n"
   ]
  },
  {
   "cell_type": "code",
   "execution_count": 4,
   "metadata": {},
   "outputs": [
    {
     "name": "stdout",
     "output_type": "stream",
     "text": [
      "No solution found\n"
     ]
    },
    {
     "name": "stderr",
     "output_type": "stream",
     "text": [
      "C:\\Users\\grund\\AppData\\Local\\Temp\\ipykernel_14652\\1206179539.py:1: DeprecationWarning: `method='simplex'` is deprecated and will be removed in SciPy 1.11.0. Please use one of the HiGHS solvers (e.g. `method='highs'`) in new code.\n",
      "  result = linprog(c, A_ub=A, b_ub=b, bounds=[x1_bounds, x2_bounds], method='simplex')\n"
     ]
    }
   ],
   "source": [
    "result = linprog(c, A_ub=A, b_ub=b, bounds=[x1_bounds, x2_bounds], method='simplex')\n",
    "\n",
    "# Output the result\n",
    "if result.success:\n",
    "    print(f\"Optimal value: {result.fun * -1:.4f}\")\n",
    "    print(f\"x1: {result.x[0]:.4f}, x2: {result.x[1]:.4f}\")\n",
    "else:\n",
    "    print(\"No solution found\")\n"
   ]
  },
  {
   "cell_type": "code",
   "execution_count": null,
   "metadata": {},
   "outputs": [],
   "source": []
  }
 ],
 "metadata": {
  "kernelspec": {
   "display_name": "thirdcourse2",
   "language": "python",
   "name": "python3"
  },
  "language_info": {
   "codemirror_mode": {
    "name": "ipython",
    "version": 3
   },
   "file_extension": ".py",
   "mimetype": "text/x-python",
   "name": "python",
   "nbconvert_exporter": "python",
   "pygments_lexer": "ipython3",
   "version": "3.13.0"
  }
 },
 "nbformat": 4,
 "nbformat_minor": 2
}
