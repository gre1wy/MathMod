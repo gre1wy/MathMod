{
 "cells": [
  {
   "cell_type": "code",
   "execution_count": 4,
   "metadata": {},
   "outputs": [],
   "source": [
    "import numpy as np\n",
    "import numpy as np\n",
    "import pandas as pd\n",
    "import matplotlib.pyplot as plt\n",
    "import seaborn as sns\n"
   ]
  },
  {
   "cell_type": "code",
   "execution_count": 2,
   "metadata": {},
   "outputs": [
    {
     "ename": "KeyboardInterrupt",
     "evalue": "",
     "output_type": "error",
     "traceback": [
      "\u001b[1;31m---------------------------------------------------------------------------\u001b[0m",
      "\u001b[1;31mKeyboardInterrupt\u001b[0m                         Traceback (most recent call last)",
      "Cell \u001b[1;32mIn[2], line 68\u001b[0m\n\u001b[0;32m     65\u001b[0m simplex_table \u001b[38;5;241m=\u001b[39m init_simplex_table()\n\u001b[0;32m     67\u001b[0m \u001b[38;5;66;03m# Выполнение симплекс-метода\u001b[39;00m\n\u001b[1;32m---> 68\u001b[0m final_table \u001b[38;5;241m=\u001b[39m \u001b[43msimplex_method\u001b[49m\u001b[43m(\u001b[49m\u001b[43msimplex_table\u001b[49m\u001b[43m)\u001b[49m\n\u001b[0;32m     70\u001b[0m \u001b[38;5;66;03m# Вывод результата\u001b[39;00m\n\u001b[0;32m     71\u001b[0m solution \u001b[38;5;241m=\u001b[39m final_table[:\u001b[38;5;241m-\u001b[39m\u001b[38;5;241m1\u001b[39m, \u001b[38;5;241m-\u001b[39m\u001b[38;5;241m1\u001b[39m]  \u001b[38;5;66;03m# Решение (значения переменных)\u001b[39;00m\n",
      "Cell \u001b[1;32mIn[2], line 59\u001b[0m, in \u001b[0;36msimplex_method\u001b[1;34m(table)\u001b[0m\n\u001b[0;32m     57\u001b[0m \u001b[38;5;28;01mwhile\u001b[39;00m np\u001b[38;5;241m.\u001b[39mmin(table[\u001b[38;5;241m-\u001b[39m\u001b[38;5;241m1\u001b[39m, :\u001b[38;5;241m-\u001b[39m\u001b[38;5;241m1\u001b[39m]) \u001b[38;5;241m<\u001b[39m \u001b[38;5;241m0\u001b[39m:  \u001b[38;5;66;03m# Пока есть отрицательные элементы в строке цели\u001b[39;00m\n\u001b[0;32m     58\u001b[0m     pivot_col \u001b[38;5;241m=\u001b[39m find_pivot_column(table)\n\u001b[1;32m---> 59\u001b[0m     pivot_row \u001b[38;5;241m=\u001b[39m \u001b[43mfind_pivot_row\u001b[49m\u001b[43m(\u001b[49m\u001b[43mtable\u001b[49m\u001b[43m,\u001b[49m\u001b[43m \u001b[49m\u001b[43mpivot_col\u001b[49m\u001b[43m)\u001b[49m\n\u001b[0;32m     60\u001b[0m     perform_simplex_step(table, pivot_row, pivot_col)\n\u001b[0;32m     62\u001b[0m \u001b[38;5;28;01mreturn\u001b[39;00m table\n",
      "Cell \u001b[1;32mIn[2], line 41\u001b[0m, in \u001b[0;36mfind_pivot_row\u001b[1;34m(table, pivot_col)\u001b[0m\n\u001b[0;32m     39\u001b[0m \u001b[38;5;66;03m# Выбираем минимальное положительное отношение rhs / column\u001b[39;00m\n\u001b[0;32m     40\u001b[0m ratios \u001b[38;5;241m=\u001b[39m np\u001b[38;5;241m.\u001b[39mdivide(rhs, column, where\u001b[38;5;241m=\u001b[39m(column \u001b[38;5;241m>\u001b[39m \u001b[38;5;241m0\u001b[39m), out\u001b[38;5;241m=\u001b[39mnp\u001b[38;5;241m.\u001b[39mfull_like(rhs, np\u001b[38;5;241m.\u001b[39minf))\n\u001b[1;32m---> 41\u001b[0m \u001b[38;5;28;01mreturn\u001b[39;00m \u001b[43mnp\u001b[49m\u001b[38;5;241;43m.\u001b[39;49m\u001b[43margmin\u001b[49m\u001b[43m(\u001b[49m\u001b[43mratios\u001b[49m\u001b[43m)\u001b[49m\n",
      "File \u001b[1;32md:\\University\\third_course\\thirdcourse2\\Lib\\site-packages\\numpy\\_core\\fromnumeric.py:1457\u001b[0m, in \u001b[0;36margmin\u001b[1;34m(a, axis, out, keepdims)\u001b[0m\n\u001b[0;32m   1368\u001b[0m \u001b[38;5;250m\u001b[39m\u001b[38;5;124;03m\"\"\"\u001b[39;00m\n\u001b[0;32m   1369\u001b[0m \u001b[38;5;124;03mReturns the indices of the minimum values along an axis.\u001b[39;00m\n\u001b[0;32m   1370\u001b[0m \n\u001b[1;32m   (...)\u001b[0m\n\u001b[0;32m   1454\u001b[0m \u001b[38;5;124;03m(2, 1, 4)\u001b[39;00m\n\u001b[0;32m   1455\u001b[0m \u001b[38;5;124;03m\"\"\"\u001b[39;00m\n\u001b[0;32m   1456\u001b[0m kwds \u001b[38;5;241m=\u001b[39m {\u001b[38;5;124m'\u001b[39m\u001b[38;5;124mkeepdims\u001b[39m\u001b[38;5;124m'\u001b[39m: keepdims} \u001b[38;5;28;01mif\u001b[39;00m keepdims \u001b[38;5;129;01mis\u001b[39;00m \u001b[38;5;129;01mnot\u001b[39;00m np\u001b[38;5;241m.\u001b[39m_NoValue \u001b[38;5;28;01melse\u001b[39;00m {}\n\u001b[1;32m-> 1457\u001b[0m \u001b[38;5;28;01mreturn\u001b[39;00m \u001b[43m_wrapfunc\u001b[49m\u001b[43m(\u001b[49m\u001b[43ma\u001b[49m\u001b[43m,\u001b[49m\u001b[43m \u001b[49m\u001b[38;5;124;43m'\u001b[39;49m\u001b[38;5;124;43margmin\u001b[39;49m\u001b[38;5;124;43m'\u001b[39;49m\u001b[43m,\u001b[49m\u001b[43m \u001b[49m\u001b[43maxis\u001b[49m\u001b[38;5;241;43m=\u001b[39;49m\u001b[43maxis\u001b[49m\u001b[43m,\u001b[49m\u001b[43m \u001b[49m\u001b[43mout\u001b[49m\u001b[38;5;241;43m=\u001b[39;49m\u001b[43mout\u001b[49m\u001b[43m,\u001b[49m\u001b[43m \u001b[49m\u001b[38;5;241;43m*\u001b[39;49m\u001b[38;5;241;43m*\u001b[39;49m\u001b[43mkwds\u001b[49m\u001b[43m)\u001b[49m\n",
      "File \u001b[1;32md:\\University\\third_course\\thirdcourse2\\Lib\\site-packages\\numpy\\_core\\fromnumeric.py:57\u001b[0m, in \u001b[0;36m_wrapfunc\u001b[1;34m(obj, method, *args, **kwds)\u001b[0m\n\u001b[0;32m     54\u001b[0m     \u001b[38;5;28;01mreturn\u001b[39;00m _wrapit(obj, method, \u001b[38;5;241m*\u001b[39margs, \u001b[38;5;241m*\u001b[39m\u001b[38;5;241m*\u001b[39mkwds)\n\u001b[0;32m     56\u001b[0m \u001b[38;5;28;01mtry\u001b[39;00m:\n\u001b[1;32m---> 57\u001b[0m     \u001b[38;5;28;01mreturn\u001b[39;00m \u001b[43mbound\u001b[49m\u001b[43m(\u001b[49m\u001b[38;5;241;43m*\u001b[39;49m\u001b[43margs\u001b[49m\u001b[43m,\u001b[49m\u001b[43m \u001b[49m\u001b[38;5;241;43m*\u001b[39;49m\u001b[38;5;241;43m*\u001b[39;49m\u001b[43mkwds\u001b[49m\u001b[43m)\u001b[49m\n\u001b[0;32m     58\u001b[0m \u001b[38;5;28;01mexcept\u001b[39;00m \u001b[38;5;167;01mTypeError\u001b[39;00m:\n\u001b[0;32m     59\u001b[0m     \u001b[38;5;66;03m# A TypeError occurs if the object does have such a method in its\u001b[39;00m\n\u001b[0;32m     60\u001b[0m     \u001b[38;5;66;03m# class, but its signature is not identical to that of NumPy's. This\u001b[39;00m\n\u001b[1;32m   (...)\u001b[0m\n\u001b[0;32m     64\u001b[0m     \u001b[38;5;66;03m# Call _wrapit from within the except clause to ensure a potential\u001b[39;00m\n\u001b[0;32m     65\u001b[0m     \u001b[38;5;66;03m# exception has a traceback chain.\u001b[39;00m\n\u001b[0;32m     66\u001b[0m     \u001b[38;5;28;01mreturn\u001b[39;00m _wrapit(obj, method, \u001b[38;5;241m*\u001b[39margs, \u001b[38;5;241m*\u001b[39m\u001b[38;5;241m*\u001b[39mkwds)\n",
      "\u001b[1;31mKeyboardInterrupt\u001b[0m: "
     ]
    }
   ],
   "source": [
    "import numpy as np\n",
    "\n",
    "# Инициализация симплекс-таблицы\n",
    "def init_simplex_table():\n",
    "    # Матрица ограничений (левая часть)\n",
    "    A = np.array([\n",
    "        [-3, 2, 1, 0, 0],   # -3x1 + 2x2 + s1 = 6\n",
    "        [1, -4, 0, 1, 0],   # x1 - 4x2 + s2 = 2\n",
    "        [1, -1, 0, 0, 1]    # x1 - x2 + s3 = 5\n",
    "    ])\n",
    "    \n",
    "    # Вектор ограничений (правая часть)\n",
    "    b = np.array([6, 2, 5])\n",
    "\n",
    "    # Целевая функция: z = 2x1 + 3x2 (заметим, что мы минимизируем -z)\n",
    "    c = np.array([-2, -3, 0, 0, 0])  # Для максимизации берем противоположные знаки\n",
    "\n",
    "    # Создаем симплекс-таблицу\n",
    "    num_constraints, num_vars = A.shape\n",
    "    simplex_table = np.zeros((num_constraints + 1, num_vars + 1))\n",
    "    \n",
    "    # Заполняем таблицу\n",
    "    simplex_table[:-1, :-1] = A\n",
    "    simplex_table[:-1, -1] = b\n",
    "    simplex_table[-1, :-1] = c\n",
    "    \n",
    "    return simplex_table\n",
    "\n",
    "# Поиск ведущего столбца\n",
    "def find_pivot_column(table):\n",
    "    last_row = table[-1, :-1]\n",
    "    return np.argmin(last_row)\n",
    "\n",
    "# Поиск ведущей строки\n",
    "def find_pivot_row(table, pivot_col):\n",
    "    column = table[:-1, pivot_col]\n",
    "    rhs = table[:-1, -1]\n",
    "    \n",
    "    # Выбираем минимальное положительное отношение rhs / column\n",
    "    ratios = np.divide(rhs, column, where=(column > 0), out=np.full_like(rhs, np.inf))\n",
    "    return np.argmin(ratios)\n",
    "\n",
    "# Выполнение симплекс-шага\n",
    "def perform_simplex_step(table, pivot_row, pivot_col):\n",
    "    # Нормализуем ведущий элемент\n",
    "    pivot_element = table[pivot_row, pivot_col]\n",
    "    table[pivot_row, :] /= pivot_element\n",
    "    \n",
    "    # Обнуляем остальные элементы в столбце\n",
    "    for i in range(table.shape[0]):\n",
    "        if i != pivot_row:\n",
    "            row_factor = table[i, pivot_col]\n",
    "            table[i, :] -= row_factor * table[pivot_row, :]\n",
    "\n",
    "# Симплекс-метод\n",
    "def simplex_method(table):\n",
    "    while np.min(table[-1, :-1]) < 0:  # Пока есть отрицательные элементы в строке цели\n",
    "        pivot_col = find_pivot_column(table)\n",
    "        pivot_row = find_pivot_row(table, pivot_col)\n",
    "        perform_simplex_step(table, pivot_row, pivot_col)\n",
    "    \n",
    "    return table\n",
    "\n",
    "# Инициализация таблицы\n",
    "simplex_table = init_simplex_table()\n",
    "\n",
    "# Выполнение симплекс-метода\n",
    "final_table = simplex_method(simplex_table)\n",
    "\n",
    "# Вывод результата\n",
    "solution = final_table[:-1, -1]  # Решение (значения переменных)\n",
    "optimal_value = final_table[-1, -1]  # Оптимальное значение целевой функции\n",
    "\n",
    "print(\"Оптимальное решение:\", solution)\n",
    "print(\"Оптимальное значение целевой функции:\", -optimal_value)  # Умножаем на -1 для правильного значения\n"
   ]
  },
  {
   "cell_type": "code",
   "execution_count": 10,
   "metadata": {},
   "outputs": [
    {
     "name": "stdout",
     "output_type": "stream",
     "text": [
      "Решение не найдено: Optimization failed. The problem appears to be unbounded.\n"
     ]
    },
    {
     "name": "stderr",
     "output_type": "stream",
     "text": [
      "C:\\Users\\grund\\AppData\\Local\\Temp\\ipykernel_5048\\3370332386.py:20: DeprecationWarning: `method='simplex'` is deprecated and will be removed in SciPy 1.11.0. Please use one of the HiGHS solvers (e.g. `method='highs'`) in new code.\n",
      "  result = linprog(c, A_ub=A, b_ub=b, bounds=x_bounds, method='simplex')\n"
     ]
    }
   ],
   "source": [
    "from scipy.optimize import linprog\n",
    "\n",
    "# Коэффициенты целевой функции (мы минимизируем -z, поэтому коэффициенты с минусом)\n",
    "c = [-2, -3]\n",
    "\n",
    "# Коэффициенты ограничений (левая часть)\n",
    "A = [\n",
    "    [-3, 2],  # -3x1 + 2x2 <= 6\n",
    "    [1, -4],  # x1 - 4x2 <= 2\n",
    "    [1, -1]   # x1 - x2 <= 5\n",
    "]\n",
    "\n",
    "# Правая часть ограничений\n",
    "b = [6, 2, 5]\n",
    "\n",
    "# Границы для переменных x1 и x2 (они неотрицательные)\n",
    "x_bounds = [(0, None), (0, None)]\n",
    "\n",
    "# Решение задачи линейного программирования\n",
    "result = linprog(c, A_ub=A, b_ub=b, bounds=x_bounds, method='simplex')\n",
    "\n",
    "# Вывод результатов\n",
    "if result.success:\n",
    "    print(\"Оптимальное решение:\")\n",
    "    print(f\"x1 = {result.x[0]:.4f}\")\n",
    "    print(f\"x2 = {result.x[1]:.4f}\")\n",
    "    print(f\"Максимальное значение целевой функции: {-result.fun:.4f}\")  # Изменяем знак обратно\n",
    "else:\n",
    "    print(\"Решение не найдено:\", result.message)\n"
   ]
  },
  {
   "cell_type": "code",
   "execution_count": 10,
   "metadata": {},
   "outputs": [
    {
     "name": "stdout",
     "output_type": "stream",
     "text": [
      "Оптимальное решение:\n",
      "x1 = 4.0000\n",
      "x2 = 0.0000\n",
      "Максимальное значение целевой функции: 4.0000\n"
     ]
    },
    {
     "name": "stderr",
     "output_type": "stream",
     "text": [
      "C:\\Users\\grund\\AppData\\Local\\Temp\\ipykernel_12400\\1696752300.py:20: DeprecationWarning: `method='simplex'` is deprecated and will be removed in SciPy 1.11.0. Please use one of the HiGHS solvers (e.g. `method='highs'`) in new code.\n",
      "  result = linprog(c, A_ub=A, b_ub=b, bounds=x_bounds, method='simplex')\n"
     ]
    }
   ],
   "source": [
    "from scipy.optimize import linprog\n",
    "\n",
    "\n",
    "c = [-1, 3]\n",
    "\n",
    "\n",
    "A = [\n",
    "    [1, 2],  \n",
    "    [-1, 1], \n",
    "    [1, 1]   \n",
    "]\n",
    "\n",
    "b = [4, -1, 8]\n",
    "\n",
    "x_bounds = [(0, None), (0, None)]\n",
    "\n",
    "result = linprog(c, A_ub=A, b_ub=b, bounds=x_bounds, method='simplex')\n",
    "\n",
    "# Вывод результатов\n",
    "if result.success:\n",
    "    print(\"Оптимальное решение:\")\n",
    "    print(f\"x1 = {result.x[0]:.4f}\")\n",
    "    print(f\"x2 = {result.x[1]:.4f}\")\n",
    "    print(f\"Максимальное значение целевой функции: {-result.fun:.4f}\")\n",
    "else:\n",
    "    print(\"Решение не найдено:\", result.message)"
   ]
  },
  {
   "cell_type": "code",
   "execution_count": 15,
   "metadata": {},
   "outputs": [
    {
     "name": "stdout",
     "output_type": "stream",
     "text": [
      "Correlation coefficient: 0.883\n"
     ]
    }
   ],
   "source": [
    "import numpy as np\n",
    "\n",
    "# Data from the table\n",
    "x_i = np.array([8, 11, 12, 9, 8, 8, 8, 9, 9, 12])\n",
    "y_i = np.array([5, 10, 10, 7, 5, 6, 5, 5, 6, 8])\n",
    "\n",
    "# Calculate the correlation coefficient\n",
    "correlation_matrix = np.corrcoef(x_i, y_i)\n",
    "correlation_coefficient = correlation_matrix[0, 1]\n",
    "\n",
    "# Print the correlation coefficient rounded to 3 decimal places\n",
    "print(f\"Correlation coefficient: {correlation_coefficient:.3f}\")\n"
   ]
  },
  {
   "cell_type": "code",
   "execution_count": 1,
   "metadata": {},
   "outputs": [
    {
     "name": "stdout",
     "output_type": "stream",
     "text": [
      "Coefficient of Determination (R^2): 0.75\n"
     ]
    }
   ],
   "source": [
    "import numpy as np\n",
    "from sklearn.linear_model import LinearRegression\n",
    "from sklearn.metrics import r2_score\n",
    "\n",
    "# Data from the table\n",
    "x_i = np.array([8, 11, 12, 9, 8, 8, 9, 9, 8, 12]).reshape(-1, 1)  # Reshape for sklearn\n",
    "y_i = np.array([5, 10, 10, 7, 5, 6, 6, 5, 6, 8])\n",
    "\n",
    "# Fit linear model\n",
    "model = LinearRegression()\n",
    "model.fit(x_i, y_i)\n",
    "\n",
    "# Predict y values based on the model\n",
    "y_pred = model.predict(x_i)\n",
    "\n",
    "# Calculate R^2 (coefficient of determination)\n",
    "r2 = r2_score(y_i, y_pred)\n",
    "\n",
    "# Print the R^2 value rounded to 2 decimal places\n",
    "print(f\"Coefficient of Determination (R^2): {r2:.2f}\")\n"
   ]
  },
  {
   "cell_type": "code",
   "execution_count": 7,
   "metadata": {},
   "outputs": [
    {
     "data": {
      "text/plain": [
       "np.float64(0.866)"
      ]
     },
     "execution_count": 7,
     "metadata": {},
     "output_type": "execute_result"
    }
   ],
   "source": [
    "import pandas as pd\n",
    "\n",
    "# Input data from the table in the image\n",
    "data = {\n",
    "    'x_i': [8, 11, 12, 9, 8, 8, 9, 9, 8, 12],\n",
    "    'y_i': [5, 10, 10, 7, 5, 6, 6, 5, 6, 8]\n",
    "}\n",
    "\n",
    "# Create a dataframe\n",
    "df = pd.DataFrame(data)\n",
    "\n",
    "# Calculate the correlation coefficient\n",
    "correlation = df['x_i'].corr(df['y_i'])\n",
    "\n",
    "# Return the result rounded to 3 decimal places\n",
    "round(correlation, 3)"
   ]
  },
  {
   "cell_type": "code",
   "execution_count": 22,
   "metadata": {},
   "outputs": [
    {
     "data": {
      "text/plain": [
       "array([[ 8],\n",
       "       [11],\n",
       "       [12],\n",
       "       [ 9],\n",
       "       [ 8],\n",
       "       [ 8],\n",
       "       [ 8],\n",
       "       [ 9],\n",
       "       [ 9],\n",
       "       [12]])"
      ]
     },
     "execution_count": 22,
     "metadata": {},
     "output_type": "execute_result"
    }
   ],
   "source": [
    "np.array([8, 11, 12, 9, 8, 8, 8, 9, 9, 12]).reshape(-1, 1)"
   ]
  },
  {
   "cell_type": "code",
   "execution_count": 9,
   "metadata": {},
   "outputs": [
    {
     "data": {
      "image/png": "[encoded data removed]",
      "text/plain": [
       "<Figure size 800x600 with 2 Axes>"
      ]
     },
     "metadata": {},
     "output_type": "display_data"
    }
   ],
   "source": [
    "plt.figure(figsize=(8, 6))\n",
    "sns.heatmap(df.corr(), annot=True, cmap='coolwarm', linewidths=0.5)\n",
    "plt.title('Correlation Heatmap')\n",
    "plt.show()"
   ]
  },
  {
   "cell_type": "code",
   "execution_count": null,
   "metadata": {},
   "outputs": [],
   "source": []
  }
 ],
 "metadata": {
  "kernelspec": {
   "display_name": "thirdcourse2",
   "language": "python",
   "name": "python3"
  },
  "language_info": {
   "codemirror_mode": {
    "name": "ipython",
    "version": 3
   },
   "file_extension": ".py",
   "mimetype": "text/x-python",
   "name": "python",
   "nbconvert_exporter": "python",
   "pygments_lexer": "ipython3",
   "version": "3.13.0"
  }
 },
 "nbformat": 4,
 "nbformat_minor": 2
}
